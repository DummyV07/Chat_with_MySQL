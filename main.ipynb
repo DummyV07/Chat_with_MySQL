{
 "cells": [
  {
   "cell_type": "markdown",
   "metadata": {},
   "source": [
    "## 测试数据库连接"
   ]
  },
  {
   "cell_type": "code",
   "execution_count": null,
   "metadata": {},
   "outputs": [],
   "source": [
    "from pymysql import Connection\n",
    "\n",
    "# Initialize database connection and get schema description\n",
    "def init_db(host:str, port:str, user:str, password:str, database:str) -> Connection:\n",
    "    return Connection(host=host, port=int(port), user=user, password=password, database=database)\n",
    "\n",
    "def get_db_schema(conn:Connection, db_name:str):\n",
    "    sql = f\"show tables from {db_name}\"\n",
    "    with conn.cursor() as cursor:\n",
    "        cursor.execute(sql)\n",
    "        tables = cursor.fetchall()\n",
    "        tables_schema = []\n",
    "        for table in tables:\n",
    "            sql = f\"show create table {table[0]}\"\n",
    "            cursor.execute(sql)\n",
    "            create_table_sql = cursor.fetchone()\n",
    "            tables_schema.append(create_table_sql)\n",
    "        return tables_schema\n",
    "\n",
    "# Example usage\n",
    "host = \"localhost\"\n",
    "port = \"3306\"\n",
    "user = \"root\"\n",
    "password = \"-\"\n",
    "database = \"chat_mysql\"\n",
    "\n",
    "dbConnection = init_db(host, port, user, password, database)\n",
    "schema = get_db_schema(dbConnection, database)\n",
    "print(schema)\n"
   ]
  },
  {
   "cell_type": "markdown",
   "metadata": {},
   "source": [
    "## 测试agent路径"
   ]
  },
  {
   "cell_type": "code",
   "execution_count": null,
   "metadata": {},
   "outputs": [],
   "source": [
    "question = 'ABCDE菜餐饮管理有限公司的联系电话和地址分别是？'\n",
    "question = '你好呀！'\n",
    "\n",
    "import json\n",
    "from openai import OpenAI\n",
    "from config import *\n",
    "from tool import *\n",
    "\n",
    "client = OpenAI(\n",
    "    base_url=BASE_URL_BAILIAN,\n",
    "    api_key=DASHSCOPE_API_KEY,\n",
    ")\n",
    "\n",
    "system_prompt = f\"\"\"\n",
    "你是一位专业的DBA，根据以下<schema>中的表结构，根据用户的问题编写SQL语句，允许使用模糊匹配 LINK操作符。\n",
    "<schema> {schema} </schema>\n",
    "\"\"\"\n",
    "\n",
    "response = client.chat.completions.create(\n",
    "    model=\"qwen2.5-14b-instruct\",\n",
    "    messages=[{\"role\":\"system\",\"content\":system_prompt},{\"role\":\"user\",\"content\":question}],\n",
    "    tools=TOOLS,\n",
    "    tool_choice=\"auto\",\n",
    ")\n",
    "\n",
    "print(response.choices[0].finish_reason)\n",
    "\n",
    "if response.choices[0].finish_reason == \"tool_calls\":\n",
    "    for tool_call in response.choices[0].message.tool_calls:\n",
    "        function_name = tool_call.function.name\n",
    "        function_args = json.loads(tool_call.function.arguments)\n",
    "\n",
    "        if function_name == \"search_mysql\":\n",
    "            answer = search_mysql(schema,dbConnection,function_args[\"question\"])\n",
    "            print(answer)\n",
    "            \n",
    "# print(response)\n"
   ]
  },
  {
   "cell_type": "code",
   "execution_count": null,
   "metadata": {},
   "outputs": [],
   "source": []
  }
 ],
 "metadata": {
  "kernelspec": {
   "display_name": "pytorch",
   "language": "python",
   "name": "python3"
  },
  "language_info": {
   "codemirror_mode": {
    "name": "ipython",
    "version": 3
   },
   "file_extension": ".py",
   "mimetype": "text/x-python",
   "name": "python",
   "nbconvert_exporter": "python",
   "pygments_lexer": "ipython3",
   "version": "3.8.18"
  }
 },
 "nbformat": 4,
 "nbformat_minor": 2
}

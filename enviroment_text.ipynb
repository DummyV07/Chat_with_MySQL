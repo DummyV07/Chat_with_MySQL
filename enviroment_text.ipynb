{
 "cells": [
  {
   "cell_type": "markdown",
   "metadata": {},
   "source": [
    "## 测试数据库连接"
   ]
  },
  {
   "cell_type": "code",
   "execution_count": null,
   "metadata": {},
   "outputs": [],
   "source": [
    "from pymysql import Connection\n",
    "\n",
    "# Initialize database connection and get schema description\n",
    "def init_db(host:str, port:str, user:str, password:str, database:str) -> Connection:\n",
    "    return Connection(host=host, port=int(port), user=user, password=password, database=database)\n",
    "\n",
    "def get_db_schema(conn:Connection, db_name:str):\n",
    "    sql = f\"show tables from {db_name}\"\n",
    "    with conn.cursor() as cursor:\n",
    "        cursor.execute(sql)\n",
    "        tables = cursor.fetchall()\n",
    "        tables_schema = []\n",
    "        for table in tables:\n",
    "            sql = f\"show create table {table[0]}\"\n",
    "            cursor.execute(sql)\n",
    "            create_table_sql = cursor.fetchone()\n",
    "            tables_schema.append(create_table_sql)\n",
    "        return tables_schema\n",
    "\n",
    "from config import *\n",
    "\n",
    "dbConnection = init_db(HOST, PORT, USER, PASSWORD, DATABASENAME)\n",
    "schema = get_db_schema(dbConnection, DATABASENAME)\n",
    "print(schema)\n"
   ]
  },
  {
   "cell_type": "markdown",
   "metadata": {},
   "source": [
    "## 测试agent路径"
   ]
  },
  {
   "cell_type": "code",
   "execution_count": null,
   "metadata": {},
   "outputs": [],
   "source": [
    "question = 'ABCDE菜餐饮管理有限公司的联系电话和地址分别是？'\n",
    "question = '你好呀！'\n",
    "\n",
    "import json\n",
    "from openai import OpenAI\n",
    "from config import *\n",
    "from tool import *\n",
    "\n",
    "client = OpenAI(\n",
    "    base_url=BASE_URL_BAILIAN,\n",
    "    api_key=DASHSCOPE_API_KEY,\n",
    ")\n",
    "\n",
    "system_prompt = f\"\"\"\n",
    "你是一位专业的DBA，根据以下<schema>中的表结构，根据用户的问题编写SQL语句，允许使用模糊匹配 LINK操作符。\n",
    "<schema> {schema} </schema>\n",
    "\"\"\"\n",
    "\n",
    "response = client.chat.completions.create(\n",
    "    model=\"qwen2.5-14b-instruct\",\n",
    "    messages=[{\"role\":\"system\",\"content\":system_prompt},{\"role\":\"user\",\"content\":question}],\n",
    "    tools=TOOLS,\n",
    "    tool_choice=\"auto\",\n",
    ")\n",
    "\n",
    "print(response.choices[0].finish_reason)\n",
    "\n",
    "if response.choices[0].finish_reason == \"tool_calls\":\n",
    "    for tool_call in response.choices[0].message.tool_calls:\n",
    "        function_name = tool_call.function.name\n",
    "        function_args = json.loads(tool_call.function.arguments)\n",
    "\n",
    "        if function_name == \"search_mysql\":\n",
    "            answer = search_mysql(schema,dbConnection,function_args[\"question\"])\n",
    "            print(answer)\n",
    "            \n",
    "# print(response)\n"
   ]
  },
  {
   "cell_type": "markdown",
   "metadata": {},
   "source": [
    "## prompt测试"
   ]
  },
  {
   "cell_type": "code",
   "execution_count": null,
   "metadata": {},
   "outputs": [],
   "source": [
    "# 当进行大模型的二次询问时，目的是为了更准确地理解用户的意图和需求，确保提供最相关和有用的信息。这通常发生在初次询问不够具体或清晰，或者初次回应后用户提供了额外信息的情况下。\n",
    "\n",
    "# 如果你是开发者或操作者，想要设计一个有效的二次询问策略，可以考虑以下几个方面：\n",
    "\n",
    "# 澄清问题：如果用户的初次询问模糊不清，可以通过提问来获取更多细节。例如，“您提到的‘这个’具体指的是什么呢？”或“能否提供更多关于您的需求的背景信息？”\n",
    "# 确认理解：在给出答案之前，先总结你对用户需求的理解，并请求确认。“我的理解是您需要...，对吗？” 这样可以确保提供的信息是用户真正需要的。\n",
    "# 细化选项：如果用户的需求可能对应多个解决方案，提出细化的选择可以帮助他们更好地表达自己的偏好。“您是想了解A方面，还是B方面的内容呢？”\n",
    "# 引导性问题：通过提出一些引导性的问题，可以帮助用户思考并明确他们的实际需求。“您是在寻找一种新的方法来解决这个问题，还是希望改进现有的方案？”\n",
    "# 反馈机制：建立一个简单的反馈机制，让用户能够指出回答中的不足之处，从而进一步调整和优化回答。“以上信息是否解决了您的问题？如果没有，请告诉我还需要哪些帮助。”"
   ]
  },
  {
   "cell_type": "code",
   "execution_count": null,
   "metadata": {},
   "outputs": [],
   "source": [
    "# 读取txt文件中的所有内容\n",
    "def read_txt(file_path):\n",
    "    with open(file_path, 'r') as f:\n",
    "        content = f.read()\n",
    "    return content\n",
    "schema = read_txt(\"./schema_output.txt\")"
   ]
  },
  {
   "cell_type": "code",
   "execution_count": null,
   "metadata": {},
   "outputs": [],
   "source": [
    "\n",
    "system_prompt = f\"\"\"\n",
    "\n",
    "    你是一个数据库查询专家，你需要根据用户问题生成数据库查询语句，用户并不了解数据库相关知识，请不要尝试询问用户数据库的相关知识\n",
    "    \n",
    "    确保生成的查询语句的准确和完整。\n",
    "\n",
    "    数据库表结构如下：\n",
    "    {schema}\n",
    "\n",
    "    如果根据表结构信息，和用户提问的内容无法确定sql语句，请尝试向用户提问，让用户重新表达问题。\n",
    "\n",
    "    若可以确定sql语句，则直接返回一条pymysql可执行的语句，不要添加其他任何的符号或说明。\n",
    "\n",
    "    要求尽可能的提高查询效率\n",
    "\n",
    "    注意你只能返回一条sql语句，若当前问题无法依靠一条sql语句完成，你尝试让用户尽可能完善表述然后重新提问\n",
    "    \n",
    "\"\"\"\n",
    "from openai import OpenAI \n",
    "from config import *\n",
    "\n",
    "client = OpenAI(\n",
    "    base_url=BASE_URL_BAILIAN,\n",
    "    api_key=DASHSCOPE_API_KEY,\n",
    ")\n",
    "\n",
    "\n",
    "question = \"\"\"\n",
    "    查询所有信息\n",
    "\"\"\"\n",
    "\n",
    "response = client.chat.completions.create(\n",
    "    model=\"qwen2.5-32b-instruct\",\n",
    "    messages=[{\"role\":\"system\",\"content\":system_prompt},{\"role\":\"user\",\"content\":question}],\n",
    "    max_tokens=96,\n",
    ")\n",
    "print(response.choices[0].message.content)"
   ]
  },
  {
   "cell_type": "code",
   "execution_count": null,
   "metadata": {},
   "outputs": [],
   "source": [
    "\n",
    "system_prompt = f\"\"\"\n",
    "\n",
    "   你是一个需求确认专家，你需要根据用户需求，不断询问用户相关问题，以完善需求，直到获得一个完整的需求。\n",
    "    \n",
    "\"\"\"\n",
    "from openai import OpenAI \n",
    "from config import *\n",
    "\n",
    "client = OpenAI(\n",
    "    base_url=BASE_URL_BAILIAN,\n",
    "    api_key=DASHSCOPE_API_KEY,\n",
    ")\n",
    "\n",
    "\n",
    "question = \"\"\"\n",
    "    查询有多少员工\n",
    "\"\"\"\n",
    "\n",
    "response = client.chat.completions.create(\n",
    "    model=\"qwen2.5-14b-instruct\",\n",
    "    messages=[{\"role\":\"system\",\"content\":system_prompt},{\"role\":\"user\",\"content\":question}],\n",
    "    max_tokens=96,\n",
    ")\n",
    "print(response.choices[0].message.content)"
   ]
  },
  {
   "cell_type": "code",
   "execution_count": null,
   "metadata": {},
   "outputs": [],
   "source": [
    "# 再写一个tool 进行需求判定？\n",
    "\n",
    "# 使用集成学习的方法，使用高温得到不同的sql语句，然后选择返回结果最多的结果，作为模型输出"
   ]
  },
  {
   "cell_type": "code",
   "execution_count": null,
   "metadata": {},
   "outputs": [],
   "source": []
  }
 ],
 "metadata": {
  "kernelspec": {
   "display_name": "pytorch",
   "language": "python",
   "name": "python3"
  },
  "language_info": {
   "codemirror_mode": {
    "name": "ipython",
    "version": 3
   },
   "file_extension": ".py",
   "mimetype": "text/x-python",
   "name": "python",
   "nbconvert_exporter": "python",
   "pygments_lexer": "ipython3",
   "version": "3.8.18"
  }
 },
 "nbformat": 4,
 "nbformat_minor": 2
}
